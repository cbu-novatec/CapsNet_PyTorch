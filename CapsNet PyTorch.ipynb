{
 "cells": [
  {
   "cell_type": "code",
   "execution_count": 1,
   "metadata": {},
   "outputs": [],
   "source": [
    "import torch\n",
    "from torchvision import datasets, transforms"
   ]
  },
  {
   "cell_type": "markdown",
   "metadata": {},
   "source": [
    "# Load the FashionMnist dataset\n",
    "The FashionMnist dataset is a direct replacement for the Mnist dataset. Containing images of clothes instead of numbers.\n",
    "The dataset is available here: https://github.com/zalandoresearch/fashion-mnist but can be directly downloaded through pytorch.\n"
   ]
  },
  {
   "cell_type": "code",
   "execution_count": 2,
   "metadata": {},
   "outputs": [],
   "source": [
    "class FashionMnist:\n",
    "    def __init__(self, batch_size, transform = transforms.Compose([\n",
    "            transforms.ToTensor(), #convert image to PyTorch tensor\n",
    "            transforms.Normalize((0.1307,),(0.3081,)) # normalization \n",
    "        ]) ):\n",
    "        dataset_transform = transform\n",
    "        self.training_data = datasets.FashionMNIST('./data/fashionmnist', train = True, transform = dataset_transform, \n",
    "                                          download = True )\n",
    "        self.test_data = datasets.FashionMNIST('./data/fashionmnist', train = False,  transform = dataset_transform, \n",
    "                                      download = True )\n",
    "        \n",
    "        #batching and shuffeling data\n",
    "        self.train_loader  = torch.utils.data.DataLoader(self.training_data, batch_size=batch_size, shuffle=True)\n",
    "        self.test_loader  = torch.utils.data.DataLoader(self.test_data, batch_size=batch_size, shuffle=True)\n",
    "        "
   ]
  },
  {
   "cell_type": "markdown",
   "metadata": {},
   "source": [
    "Here I just plot some images from the dataset, to see what it looks like."
   ]
  },
  {
   "cell_type": "code",
   "execution_count": 3,
   "metadata": {},
   "outputs": [
    {
     "name": "stderr",
     "output_type": "stream",
     "text": [
      "  0%|          | 0/26421880 [00:00<?, ?it/s]"
     ]
    },
    {
     "name": "stdout",
     "output_type": "stream",
     "text": [
      "Downloading http://fashion-mnist.s3-website.eu-central-1.amazonaws.com/train-images-idx3-ubyte.gz to ./data/fashionmnist/FashionMNIST/raw/train-images-idx3-ubyte.gz\n"
     ]
    },
    {
     "name": "stderr",
     "output_type": "stream",
     "text": [
      "26427392it [00:02, 10464176.05it/s]                              \n"
     ]
    },
    {
     "name": "stdout",
     "output_type": "stream",
     "text": [
      "Extracting ./data/fashionmnist/FashionMNIST/raw/train-images-idx3-ubyte.gz to ./data/fashionmnist/FashionMNIST/raw\n"
     ]
    },
    {
     "name": "stderr",
     "output_type": "stream",
     "text": [
      "32768it [00:00, 269715.02it/s]                           \n",
      "0it [00:00, ?it/s]"
     ]
    },
    {
     "name": "stdout",
     "output_type": "stream",
     "text": [
      "Downloading http://fashion-mnist.s3-website.eu-central-1.amazonaws.com/train-labels-idx1-ubyte.gz to ./data/fashionmnist/FashionMNIST/raw/train-labels-idx1-ubyte.gz\n",
      "Extracting ./data/fashionmnist/FashionMNIST/raw/train-labels-idx1-ubyte.gz to ./data/fashionmnist/FashionMNIST/raw\n",
      "Downloading http://fashion-mnist.s3-website.eu-central-1.amazonaws.com/t10k-images-idx3-ubyte.gz to ./data/fashionmnist/FashionMNIST/raw/t10k-images-idx3-ubyte.gz\n"
     ]
    },
    {
     "name": "stderr",
     "output_type": "stream",
     "text": [
      "4423680it [00:00, 8230176.80it/s]                            \n",
      "8192it [00:00, 111713.19it/s]\n"
     ]
    },
    {
     "name": "stdout",
     "output_type": "stream",
     "text": [
      "Extracting ./data/fashionmnist/FashionMNIST/raw/t10k-images-idx3-ubyte.gz to ./data/fashionmnist/FashionMNIST/raw\n",
      "Downloading http://fashion-mnist.s3-website.eu-central-1.amazonaws.com/t10k-labels-idx1-ubyte.gz to ./data/fashionmnist/FashionMNIST/raw/t10k-labels-idx1-ubyte.gz\n",
      "Extracting ./data/fashionmnist/FashionMNIST/raw/t10k-labels-idx1-ubyte.gz to ./data/fashionmnist/FashionMNIST/raw\n",
      "Processing...\n",
      "Done!\n"
     ]
    },
    {
     "data": {
      "text/plain": [
       "<Figure size 800x800 with 20 Axes>"
      ]
     },
     "metadata": {},
     "output_type": "display_data"
    }
   ],
   "source": [
    "import numpy as np\n",
    "import matplotlib\n",
    "from matplotlib import pyplot as plt\n",
    "\n",
    "batch_size = 100\n",
    "mnist = FashionMnist(batch_size, transform = None)\n",
    "\n",
    "labels_map = {0 : 'T-Shirt', 1 : 'Trouser', 2 : 'Pullover', 3 : 'Dress', 4 : 'Coat', 5 : 'Sandal', 6 : 'Shirt',\n",
    "              7 : 'Sneaker', 8 : 'Bag', 9 : 'Ankle Boot'};\n",
    "\n",
    "fig = plt.figure(figsize=(8,8));\n",
    "columns = 4;\n",
    "rows = 5;\n",
    "\n",
    "for i in range(1, columns*rows +1):\n",
    "    img_xy = np.random.randint(len(mnist.training_data));\n",
    "    img = mnist.training_data[img_xy][0]\n",
    "    fig.add_subplot(rows, columns, i)\n",
    "    plt.title(labels_map[mnist.training_data[img_xy][1]])\n",
    "    plt.axis('off')\n",
    "    plt.imshow(img, cmap='gray')\n",
    "plt.show()"
   ]
  },
  {
   "attachments": {},
   "cell_type": "markdown",
   "metadata": {},
   "source": [
    "Those are the class labels:\n",
    "<div>\n",
    "<img src=\"figures\\image.png\" width = \"180\"/>\n",
    "</div>"
   ]
  },
  {
   "cell_type": "markdown",
   "metadata": {},
   "source": [
    "# Architecture\n"
   ]
  },
  {
   "attachments": {},
   "cell_type": "markdown",
   "metadata": {},
   "source": [
    "<div>\n",
    "<img src=\"figures\\architecture_encoder.gif\" width = \"880\"/>\n",
    "</div>\n",
    "This is the architecture for the MNIST dataset proposed by Sabour et al. (2017). There is a convolutional layer first, followed by two capsule layers."
   ]
  },
  {
   "cell_type": "markdown",
   "metadata": {},
   "source": [
    "## Convolutional Layer\n",
    "**Input:** 28x28x1 (image size and grey scale channel)\n",
    "\n",
    "**Output:** 20x20x256\n",
    "\n",
    "The first layer is a convolutional layer and extracts basic features. The images in the FashionMnist dataset have an input size of 28x28 pixels. We convolve with 256 kernels of size 9x9 over the input image. This results in 256 output images of size 20x20 (the output size of a convolutional network is $(input size - kernel size)+1$.\n",
    "We then apply a Rectified Linear Unit."
   ]
  },
  {
   "cell_type": "code",
   "execution_count": 4,
   "metadata": {},
   "outputs": [],
   "source": [
    "import torch.nn as nn\n",
    "import torch.nn.functional as F\n",
    "\n",
    "# parameters taken from paper\n",
    "class ConvLayer(nn.Module):\n",
    "    def __init__(self, in_channels=1, out_channels=256, kernel_size=9):\n",
    "        super(ConvLayer, self).__init__()\n",
    "\n",
    "        self.conv = nn.Conv2d(in_channels=in_channels,\n",
    "                               out_channels=out_channels,\n",
    "                               kernel_size=kernel_size,\n",
    "                               stride=1\n",
    "                             )\n",
    "\n",
    "    def forward(self, x):\n",
    "        return F.relu(self.conv(x))"
   ]
  },
  {
   "cell_type": "markdown",
   "metadata": {},
   "source": [
    "## First Capsule Layer"
   ]
  },
  {
   "attachments": {},
   "cell_type": "markdown",
   "metadata": {},
   "source": [
    "**Input:** 20x20x256\n",
    "\n",
    "**Output:** 1152x8\n",
    "\n",
    "So now, instead of having a pooling layer, we get to our first capsule layer. Well, this isn't really a proper capsule layer, but actually another convolutional layer. The only new thing we do here, is to *reshape* and *squash*.\n",
    "\n",
    "This time we convolve with kernels of size 9x9x256, as we have a stack of 256 outputs from before. The stride this time is 2. We then get 256 output images of size 6x6 (this time $\\frac{(inputsize - kernelsize) + 1}{2}$, as we have stride 2).\n",
    "We then can then *reshape* this stack by splitting it into 32 decks, each containing 8 output images of size 6x6. \n",
    "<div>\n",
    "<img src=\"figures\\capsule_layer.gif\" width = \"500\"/>\n",
    "</div>\n",
    "We get in each deck 36 capsules, and 32 decks in total. This amounts to $36 * 32 = 1152$  capsules.\n",
    "The last step is to squash those capsules.\n",
    "Remember the squash function:\n",
    "\n",
    "$$v_j = \\frac{\\|s_j\\|^2 }{1+\\|s_j\\|^2} \\frac{s_j}{\\|s_j\\|}$$"
   ]
  },
  {
   "cell_type": "code",
   "execution_count": 5,
   "metadata": {},
   "outputs": [],
   "source": [
    "class PrimaryCaps(nn.Module):\n",
    "    # perform depthwise convolution\n",
    "    def __init__(self, in_channels = 256 , out_channels = 256 , kernel_size = 9, groups = 256, stride = 2):\n",
    "        super(PrimaryCaps,self).__init__()\n",
    "        self.primary_caps = nn.Conv2d(in_channels=in_channels, out_channels=out_channels, \n",
    "                                  kernel_size = kernel_size, stride = stride)  \n",
    "    \n",
    "    def forward(self, x):\n",
    "        u = self.primary_caps(x)\n",
    "        u = u.view(x.size(0), 32 * 6 * 6, -1) \n",
    "        return self.squash(u)\n",
    "\n",
    "    def squash(self, tensor):\n",
    "        squared_norm = (tensor ** 2).sum(-1, keepdim=True)\n",
    "        scaled = squared_norm/(1+squared_norm)\n",
    "        return scaled*tensor/torch.sqrt(squared_norm)"
   ]
  },
  {
   "cell_type": "markdown",
   "metadata": {},
   "source": [
    "## Second Caps Layer"
   ]
  },
  {
   "cell_type": "markdown",
   "metadata": {},
   "source": [
    "**Input:** 1152x8\n",
    "\n",
    "**Output:** 10x16\n",
    "\n",
    "Now we have a \"proper\" capsule layer.\n",
    "We have a vector input (of size 1x8). Those inputs get multiplied with affine transformation matrices W. On the transformed vectors we then use routing by agreement. \n",
    "For each input vector we determine the coupling coefficient to the next layer capsule. As we have 10 classes, we have 10 capsules to route to. Each capsules has a size of 16, which is the choice they made in the paper. The length of each of those 10 16-dimensional vectors, gives us the confidence for the corresponding class."
   ]
  },
  {
   "cell_type": "code",
   "execution_count": 6,
   "metadata": {},
   "outputs": [],
   "source": [
    "class SecondCaps(nn.Module):\n",
    "    def __init__(self, num_capsules=10, previous_capsules=32 * 6 * 6, in_channels=8, out_channels=16):\n",
    "        super(SecondCaps, self).__init__()\n",
    "\n",
    "        self.in_channels = in_channels\n",
    "        self.previous_capsules = previous_capsules\n",
    "        self.num_capsules = num_capsules\n",
    "\n",
    "        self.W = nn.Parameter(torch.randn(1, previous_capsules, num_capsules, out_channels, in_channels))\n",
    "\n",
    "    def forward(self, x):\n",
    "        batch_size = x.size(0)\n",
    "        x = torch.stack([x] * self.num_capsules, dim=2).unsqueeze(4)\n",
    "\n",
    "        W = torch.cat([self.W] * batch_size, dim=0) #\n",
    "        u_hat = torch.matmul(W, x) #W*x = u_hat\n",
    "\n",
    "        num_iterations = 3  # taken from paper\n",
    "        v_j = self.routing_by_agreement(u_hat, num_iterations)\n",
    "\n",
    "        return v_j.squeeze(1)\n",
    "    \n",
    "    def routing_by_agreement(self, u_hat, num_iterations):\n",
    "        b_ij = torch.zeros(1, self.previous_capsules, self.num_capsules, 1) #initialize b_ij = 0\n",
    "        for iteration in range(num_iterations): \n",
    "            c_ij = F.softmax(b_ij, dim = 1) # scale each capsules weights so they sum to 1\n",
    "            c_ij = torch.cat([c_ij] * batch_size, dim=0).unsqueeze(4)\n",
    "            # transformed vectors get multiplied element-wise with the coupling coefficients\n",
    "            # for each high level capsule, the sum over all lower level capsules inputs is calculated\n",
    "            s_j = (c_ij * u_hat).sum(dim=1, keepdim=True) \n",
    "            v_j = self.squash(s_j) # normalize with squash function\n",
    "            # don't need to calculate new b_ij in last iteration   \n",
    "            if iteration < num_iterations - 1:\n",
    "                a_ij = torch.matmul(u_hat.transpose(3, 4), torch.cat([v_j] * self.previous_capsules, dim=1))\n",
    "                b_ij = b_ij + a_ij.mean(dim=0, keepdim=True).squeeze(4)\n",
    "        return v_j\n",
    "    \n",
    "    def squash(self, tensor):\n",
    "        squared_norm = (tensor ** 2).sum(-1, keepdim=True)\n",
    "        scaled = squared_norm/(1+squared_norm)\n",
    "        return scaled*tensor/torch.sqrt(squared_norm)"
   ]
  },
  {
   "attachments": {},
   "cell_type": "markdown",
   "metadata": {},
   "source": [
    "## Reconstruction\n",
    "\n",
    "The next layer reconstructs the image from the instantiation parameters given by the capsule output.\n",
    "<div>\n",
    "<img src=\"figures\\Decoder.png\" width = \"700\"/>\n",
    "</div>\n",
    "\n",
    "It is a simple fully connected network. It is later used for regularization.  "
   ]
  },
  {
   "cell_type": "code",
   "execution_count": 7,
   "metadata": {},
   "outputs": [],
   "source": [
    "class Decoder(nn.Module):\n",
    "    def __init__(self, num_capsule_param = 16, num_capsules=10, num_hidden = 512):\n",
    "        super(Decoder, self).__init__()\n",
    "        \n",
    "        self.reconstruction_layers = nn.Sequential(\n",
    "            nn.Linear(num_capsule_param* num_capsules, 512),\n",
    "            nn.ReLU(inplace=True),\n",
    "            nn.Linear(num_hidden, num_hidden*2),\n",
    "            nn.ReLU(inplace=True),\n",
    "            nn.Linear(num_hidden*2, 28 * 28),\n",
    "            nn.Sigmoid()\n",
    "        )\n",
    "        \n",
    "    def forward(self, x, data):\n",
    "        # calculate length for each capsule\n",
    "        caps_classes = torch.sqrt((x ** 2).sum(2))\n",
    "        caps_classes = F.softmax(caps_classes, dim = 1)\n",
    "        # find capsule with maximum vector length, reflecting highest probability\n",
    "        max_indices = caps_classes.argmax(dim=1)\n",
    "        mask_matrix =torch.eye(10)\n",
    "        mask_matrix = mask_matrix.index_select(dim=0, index=max_indices.squeeze(1).data)\n",
    "        y = (x * mask_matrix[:, :, None, None]).view(x.size(0), -1)\n",
    "        reconstructions = self.reconstruction_layers(y)\n",
    "        \n",
    "        reconstructions = reconstructions.view(-1, 1, 28, 28)\n",
    "\n",
    "        return reconstructions, mask_matrix\n"
   ]
  },
  {
   "cell_type": "markdown",
   "metadata": {},
   "source": [
    "## Network\n",
    "Now we have all our layers and we can put them together.\n",
    "\n",
    "\n"
   ]
  },
  {
   "cell_type": "code",
   "execution_count": 8,
   "metadata": {},
   "outputs": [],
   "source": [
    "class CapsNet(nn.Module):\n",
    "    def __init__(self):\n",
    "        super(CapsNet, self).__init__()\n",
    "        self.conv_layer = ConvLayer()\n",
    "        self.primary_capsules = PrimaryCaps()\n",
    "        self.second_capsules = SecondCaps()\n",
    "        self.decoder = Decoder()\n",
    "        \n",
    "     \n",
    "    def forward(self, data):\n",
    "        output = self.second_capsules(self.primary_capsules(self.conv_layer(data)))\n",
    "        reconstructions, masked = self.decoder(output, data)\n",
    "        return output, reconstructions, masked"
   ]
  },
  {
   "cell_type": "markdown",
   "metadata": {},
   "source": [
    "## Loss function\n",
    "\n",
    "Our loss function is the sum of of the margin loss and the reconstruction loss.\n",
    "\n",
    "The paper uses a special margin loss to make it possible to detect two or more different digits in each image:\n",
    "\n",
    "$$L_k = T_k \\max(0, m^{+} - \\|\\mathbf{v}_k\\|)^2 + \\lambda (1 - T_k) \\max(0, \\|\\mathbf{v}_k\\| - m^{-})^2$$\n",
    "\n",
    "$T_k$ is equal to 1 if the digit of class $k$ is present, or 0 otherwise.\n",
    "In the paper, $m^{+} = 0.9$, $m^{-} = 0.1$ and $\\lambda = 0.5$.\n",
    "\n",
    "The reconstruction loss is the euclidean distance between the reconstructed and the original image.\n"
   ]
  },
  {
   "cell_type": "code",
   "execution_count": 9,
   "metadata": {},
   "outputs": [],
   "source": [
    "class CapsuleLoss(nn.Module):\n",
    "    def __init__(self):\n",
    "        super(CapsuleLoss,self).__init__()\n",
    "        self.mse_loss = nn.MSELoss()\n",
    "            \n",
    "    # our loss is margin_loss + reconstruction_loss\n",
    "    # the reconstruction loss is multiplied with 0.0005 to ensure that the margin loss dominates the total loss\n",
    "    def forward(self, data, x, target, reconstructions):\n",
    "        return self.margin_loss(x, target) + (0.0005*self.reconstruction_loss(data, reconstructions))\n",
    "    \n",
    "    # special margin_loss definied in the paper\n",
    "    def margin_loss(self, x, labels,lamda = 0.5, size_average=True):\n",
    "        batch_size = x.size(0)\n",
    "\n",
    "        v_c_norm = torch.sqrt((x**2).sum(dim=2, keepdim=True))\n",
    "\n",
    "        left = ((F.relu(0.9 - v_c_norm))**2).view(batch_size, -1)\n",
    "        right = ((F.relu(v_c_norm - 0.1))**2).view(batch_size, -1)\n",
    "\n",
    "        loss = labels * left + lamda * (1.0 - labels) * right\n",
    "        loss = loss.sum(dim=1).mean()\n",
    "\n",
    "        return loss\n",
    "    \n",
    "    # squared difference between reconstructed and original image\n",
    "    def reconstruction_loss(self, data, reconstructions):\n",
    "        loss = self.mse_loss(reconstructions.view(reconstructions.size(0), -1), data.view(reconstructions.size(0), -1))\n",
    "        return loss "
   ]
  },
  {
   "cell_type": "markdown",
   "metadata": {},
   "source": [
    "## Training and Testing"
   ]
  },
  {
   "cell_type": "code",
   "execution_count": 10,
   "metadata": {},
   "outputs": [],
   "source": [
    "from torch.autograd import Variable\n",
    "from torch.optim import Adam\n",
    "\n",
    "capsule_net = CapsNet()\n",
    "capsule_loss = CapsuleLoss()\n",
    "# optimizer used in the paper\n",
    "optimizer = Adam(capsule_net.parameters())"
   ]
  },
  {
   "cell_type": "code",
   "execution_count": 11,
   "metadata": {},
   "outputs": [
    {
     "name": "stdout",
     "output_type": "stream",
     "text": [
      "Epoch: 0 \t Train accuracy: 0.08\n",
      "Epoch: 0 \t Train accuracy: 0.82\n",
      "Epoch: 0 \t Train accuracy: 0.83\n",
      "Epoch: 0 \t Train accuracy: 0.82\n",
      "Epoch: 0 \t Train accuracy: 0.83\n",
      "Epoch: 0 \t Train accuracy: 0.89\n",
      "Training Loss: 0.17198263108730316\n",
      "Epoch: 0 \t Test accuracy: 0.87\n",
      "Test Loss: 0.1036573126912117\n"
     ]
    }
   ],
   "source": [
    "n_epochs = 1 # the more epochs, the longer the training, but better results. Try what works on your computer.\n",
    "batch_size = 100\n",
    "mnist = FashionMnist(batch_size)\n",
    "\n",
    "for epoch in range(n_epochs):\n",
    "    capsule_net.train()\n",
    "    train_loss = 0\n",
    "    for batch_id, (data, target) in enumerate(mnist.train_loader):\n",
    "\n",
    "        target = torch.eye(10).index_select(dim=0, index=target)\n",
    "        data, target = data, target\n",
    "\n",
    "        optimizer.zero_grad()\n",
    "        output, reconstructions, masked = capsule_net(data)\n",
    "        loss = capsule_loss(data, output, target, reconstructions)\n",
    "        loss.backward()\n",
    "        optimizer.step()\n",
    "\n",
    "        train_loss += loss.data\n",
    "        \n",
    "        if batch_id % 100 == 0:\n",
    "            accuracy = sum(np.argmax(masked.data.cpu().numpy(), 1) == \n",
    "                           np.argmax(target.data.cpu().numpy(), 1)) / float(batch_size)\n",
    "            print (\"Epoch: {} \\t Train accuracy: {}\".format(epoch, accuracy))\n",
    "       \n",
    "    print (\"Training Loss: {}\".format(train_loss / len(mnist.train_loader)))\n",
    "        \n",
    "    capsule_net.eval()\n",
    "    test_loss = 0\n",
    "    for batch_id, (data, target) in enumerate(mnist.test_loader):\n",
    "\n",
    "        target = torch.eye(10).index_select(dim=0, index=target)\n",
    "        data, target = data, target\n",
    "\n",
    "        output, reconstructions, masked = capsule_net(data)\n",
    "        loss = capsule_loss(data, output, target, reconstructions)\n",
    "\n",
    "        test_loss += loss.data\n",
    "        \n",
    "        if batch_id % 100 == 0:\n",
    "            accuracy = sum(np.argmax(masked.data.cpu().numpy(), 1) == \n",
    "                                   np.argmax(target.data.cpu().numpy(), 1)) / float(batch_size)\n",
    "            print (\"Epoch: {} \\t Test accuracy: {}\".format(epoch,accuracy) )\n",
    "    \n",
    "    print(\"Test Loss: {}\".format(test_loss / len(mnist.test_loader)))\n",
    "\n"
   ]
  },
  {
   "cell_type": "markdown",
   "metadata": {},
   "source": [
    "## Reconstructed images\n",
    "\n",
    "To see how good the network works, we can plot the reconstructed images and compare them to the original images."
   ]
  },
  {
   "cell_type": "code",
   "execution_count": 12,
   "metadata": {},
   "outputs": [],
   "source": [
    "def plot_images(images):\n",
    "    fig = plt.figure()\n",
    "    for j in range(1, 7):\n",
    "        ax = fig.add_subplot(1, 6, j)\n",
    "        ax.matshow(images[j-1], cmap = matplotlib.cm.binary)\n",
    "        plt.xticks(np.array([]))\n",
    "        plt.yticks(np.array([]))\n",
    "    plt.show()"
   ]
  },
  {
   "cell_type": "code",
   "execution_count": 13,
   "metadata": {},
   "outputs": [
    {
     "data": {
      "image/png": "[encoded data removed]",
      "text/plain": [
       "<Figure size 432x288 with 6 Axes>"
      ]
     },
     "metadata": {},
     "output_type": "display_data"
    }
   ],
   "source": [
    "plot_images(data[:6,0].data.cpu().numpy())"
   ]
  },
  {
   "cell_type": "code",
   "execution_count": 14,
   "metadata": {},
   "outputs": [
    {
     "data": {
      "image/png": "[encoded data removed]",
      "text/plain": [
       "<Figure size 432x288 with 6 Axes>"
      ]
     },
     "metadata": {},
     "output_type": "display_data"
    }
   ],
   "source": [
    "plot_images(reconstructions[:6,0].data.cpu().numpy())"
   ]
  },
  {
   "cell_type": "markdown",
   "metadata": {},
   "source": [
    "https://github.com/gram-ai/capsule-networks\n",
    "\n",
    "https://github.com/higgsfield/Capsule-Network-Tutorial/blob/master/Capsule%20Network.ipynb\n"
   ]
  }
 ],
 "metadata": {
  "kernelspec": {
   "display_name": "Python 3",
   "language": "python",
   "name": "python3"
  },
  "language_info": {
   "codemirror_mode": {
    "name": "ipython",
    "version": 3
   },
   "file_extension": ".py",
   "mimetype": "text/x-python",
   "name": "python",
   "nbconvert_exporter": "python",
   "pygments_lexer": "ipython3",
   "version": "3.7.3"
  }
 },
 "nbformat": 4,
 "nbformat_minor": 2
}
